{
 "cells": [
  {
   "cell_type": "code",
   "execution_count": 1,
   "metadata": {},
   "outputs": [],
   "source": [
    "import numpy as np \n",
    "import sklearn\n",
    "import sklearn.model_selection\n",
    "\n",
    "inputs = [] \n",
    "labels = []\n",
    "with open(\"seeds_dataset.txt\", \"r\") as f:\n",
    "    for line in f:\n",
    "        inputs.append([float(val) for val in line.strip().split()[:7]])\n",
    "        labels.append(int(line.strip().split()[7]))\n",
    "\n",
    "inputs = np.array(inputs, dtype=float)\n",
    "labels = np.array(labels)\n",
    "\n",
    "x_train, x_test, y_train, y_test = sklearn.model_selection.train_test_split(inputs, labels, train_size=0.8, shuffle=True)"
   ]
  },
  {
   "cell_type": "code",
   "execution_count": 2,
   "metadata": {},
   "outputs": [],
   "source": [
    "def sigmoid(x):\n",
    "    return 1 / (1 + np.exp(-x))\n",
    "\n",
    "def sigmoid_deriv(X):\n",
    "    sigmoid_output = sigmoid(X)\n",
    "    return sigmoid_output * (1 - sigmoid_output)\n",
    "\n",
    "def relu(X):\n",
    "    return np.maximum(0, X)\n",
    "\n",
    "def relu_deriv(X):\n",
    "    return X > 0\n",
    "\n",
    "def get_expected_from_label(label):\n",
    "    expected = np.zeros(3)\n",
    "    expected[label - 1] = 1.0\n",
    "    return expected\n",
    "\n",
    "def mean_squared_error(output, expected_label):\n",
    "    expected = get_expected_from_label(expected_label)    \n",
    "\n",
    "    return np.mean((expected - output) ** 2)\n",
    "\n",
    "def msq_deriv(output, expected_label):\n",
    "    expected = get_expected_from_label(expected_label)\n",
    "    return output - expected\n",
    "\n",
    "class Layer:\n",
    "    def __init__(self, m, n, activation_func):\n",
    "        #n - nr de neuroni de pe stratul x\n",
    "        #m - nr de neuroni de pe stratul x - 1\n",
    "        self.weight = np.random.rand(n, m) - 0.5\n",
    "        self.bias = np.random.rand(n) - 0.5\n",
    "        self.activation = activation_func\n",
    "    \n",
    "    def activate(self, neurons):\n",
    "        return self.activation(neurons)\n",
    "    "
   ]
  },
  {
   "cell_type": "code",
   "execution_count": 3,
   "metadata": {},
   "outputs": [],
   "source": [
    "alfa = 0.01 #learning rate\n",
    "epochs = 1000\n",
    "\n",
    "epoch_error = {} #eroare la antrenare si testare pt fiecare epoca, pentru bonus\n",
    "\n",
    "# 2 straturi ascunse de cate 5 neuroni fiecare.\n",
    "# Activare - ReLU pe straturile ascunse, sigmoid pe cel de output\n",
    "layers = [Layer(7, 5, relu), Layer(5, 5, relu), Layer(5, 3, sigmoid)]"
   ]
  },
  {
   "cell_type": "code",
   "execution_count": 6,
   "metadata": {},
   "outputs": [],
   "source": [
    "\n",
    "def compute_output(input, layer):\n",
    "    output = np.dot(layer.weight, input) + layer.bias\n",
    "    return layer.activate(output)\n",
    "\n",
    "def feed_forward(input, label, layers):\n",
    "    output = None\n",
    "    for layer in layers:\n",
    "        output = compute_output(input, layer)\n",
    "        input = output\n",
    "    # print(output)\n",
    "    # print(f\"Expected: {label}; Prediction: {np.argmax(output) + 1} \")\n",
    "    # print(get_expected_from_label(label))\n",
    "    # print(f\"MSE: {mean_squared_error(output, label)}\")\n",
    "\n",
    "    return np.argmax(output) + 1\n",
    "\n",
    "def backpropagate(input, label, layers):\n",
    "    delta_weights = [np.zeros(layer.weight.shape) for layer in layers]\n",
    "    delta_biases = [np.zeros(layer.bias.shape) for layer in layers]\n",
    "\n",
    "    neurons_a = [input] #neuronii activati\n",
    "\n",
    "    for layer in layers:\n",
    "        output_a = compute_output(input, layer)\n",
    "        neurons_a.append(output_a)\n",
    "        input = output_a\n",
    "\n",
    "    delta = None\n",
    "    for i in range(len(layers) - 1, -1, -1):\n",
    "        if i == len(layers) - 1: #sunt pe ultimul strat\n",
    "            delta = msq_deriv(neurons_a[-1], label) * sigmoid_deriv(neurons_a[-1])\n",
    "        else:\n",
    "            delta = np.dot(layers[i + 1].weight.T, delta) * relu_deriv(neurons_a[i + 1])\n",
    "\n",
    "        delta_biases[i] = delta \n",
    "        delta_weights[i] = np.outer(delta, neurons_a[i])\n",
    "\n",
    "    return delta_weights, delta_biases\n",
    "\n",
    "def train(x_train, y_train, layers, epochs, alfa):\n",
    "    iteration = 0\n",
    "    while iteration < epochs:\n",
    "        for i in range(len(x_train)):\n",
    "            input_data = x_train[i]\n",
    "            label = y_train[i]\n",
    "\n",
    "            #backpropagation\n",
    "            delta_weights, delta_biases = backpropagate(input_data, label, layers)\n",
    "\n",
    "            #update weights and biases\n",
    "            for i, layer in enumerate(layers):\n",
    "               layer.weight -= alfa * delta_weights[i]\n",
    "               layer.bias -= alfa * delta_biases[i]\n",
    "        \n",
    "        #pentru bonus\n",
    "        train_error = 1 - predict(x_train, y_train)[1]\n",
    "        test_error = 1 - predict(x_test, y_test)[1]\n",
    "        epoch_error[iteration] = (train_error, test_error)\n",
    "        #\n",
    "\n",
    "        iteration += 1\n",
    "\n",
    "def predict(x_set, y_set):\n",
    "    correct_count = 0\n",
    "    total_count = 0\n",
    "    points = [] #setul de date ca puncte in 2d + true/false daca e eroare; pentru bonus\n",
    "    for x, y in zip(x_set, y_set):\n",
    "        predicted = feed_forward(x, y, layers)\n",
    "        total_count += 1\n",
    "        points.append((x[:2], False))\n",
    "\n",
    "        if predicted == y:\n",
    "            correct_count += 1\n",
    "            points[-1] = (x[:2], True)\n",
    "\n",
    "\n",
    "    return points, correct_count / total_count"
   ]
  },
  {
   "cell_type": "code",
   "execution_count": 7,
   "metadata": {},
   "outputs": [],
   "source": [
    "train(x_train, y_train, layers, epochs, alfa)"
   ]
  },
  {
   "cell_type": "code",
   "execution_count": 8,
   "metadata": {},
   "outputs": [],
   "source": [
    "train_points, train_acc = predict(x_train, y_train)\n",
    "test_points, test_acc = predict(x_test, y_test)"
   ]
  },
  {
   "cell_type": "code",
   "execution_count": 9,
   "metadata": {},
   "outputs": [
    {
     "name": "stdout",
     "output_type": "stream",
     "text": [
      "Test accuracy: 90.47619047619048%\n",
      "Train accuracy: 97.02380952380952%\n"
     ]
    }
   ],
   "source": [
    "print(f\"Test accuracy: {test_acc * 100}%\")\n",
    "print(f\"Train accuracy: {train_acc * 100}%\")"
   ]
  },
  {
   "cell_type": "code",
   "execution_count": 14,
   "metadata": {},
   "outputs": [
    {
     "data": {
      "image/png": "[encoded data removed]",
      "text/plain": [
       "<Figure size 432x288 with 1 Axes>"
      ]
     },
     "metadata": {
      "needs_background": "light"
     },
     "output_type": "display_data"
    },
    {
     "data": {
      "image/png": "[encoded data removed]",
      "text/plain": [
       "<Figure size 432x288 with 1 Axes>"
      ]
     },
     "metadata": {
      "needs_background": "light"
     },
     "output_type": "display_data"
    }
   ],
   "source": [
    "import matplotlib.pyplot as plot\n",
    "\n",
    "def show_plot(errors, epochs, title):\n",
    "    plt = plot\n",
    "    plt.plot(np.arange(1, epochs + 1), errors)\n",
    "\n",
    "    plt.title(title)\n",
    "    plt.xlabel(\"Epoch\")\n",
    "    plt.ylabel(\"Error\")\n",
    "    plt.show()\n",
    "\n",
    "\n",
    "show_plot([train_err for train_err, _ in epoch_error.values()], epochs, \"Training error on each epoch\")\n",
    "show_plot([test_err for _, test_err in epoch_error.values()], epochs, \"Test error on each epoch\")"
   ]
  },
  {
   "cell_type": "code",
   "execution_count": 19,
   "metadata": {},
   "outputs": [
    {
     "data": {
      "text/plain": [
       "<matplotlib.legend.Legend at 0x24d2a044820>"
      ]
     },
     "execution_count": 19,
     "metadata": {},
     "output_type": "execute_result"
    },
    {
     "data": {
      "image/png": "[encoded data removed]",
      "text/plain": [
       "<Figure size 432x288 with 1 Axes>"
      ]
     },
     "metadata": {
      "needs_background": "light"
     },
     "output_type": "display_data"
    }
   ],
   "source": [
    "plt = plot\n",
    "\n",
    "plt.scatter([test_point[0][0] for test_point in test_points if test_point[1] is True],\n",
    "            [test_point[0][1] for test_point in test_points if test_point[1] is True], \n",
    "            label=\"Correctly classified\")\n",
    "\n",
    "plt.scatter([test_point[0][0] for test_point in test_points if test_point[1] is False],\n",
    "            [test_point[0][1] for test_point in test_points if test_point[1] is False],\n",
    "            color=\"red\",\n",
    "            label=\"Incorrectly classified\")\n",
    "\n",
    "plt.title(\"2d representation of the test dataset\")\n",
    "plt.legend()\n"
   ]
  }
 ],
 "metadata": {
  "kernelspec": {
   "display_name": "Python 3",
   "language": "python",
   "name": "python3"
  },
  "language_info": {
   "codemirror_mode": {
    "name": "ipython",
    "version": 3
   },
   "file_extension": ".py",
   "mimetype": "text/x-python",
   "name": "python",
   "nbconvert_exporter": "python",
   "pygments_lexer": "ipython3",
   "version": "3.9.7"
  }
 },
 "nbformat": 4,
 "nbformat_minor": 2
}
